{
 "cells": [
  {
   "cell_type": "markdown",
   "id": "71203ac9",
   "metadata": {},
   "source": [
    "# PW Skills Data Science Masters \n",
    "\n",
    "## Assignment 09/feb/2023"
   ]
  },
  {
   "cell_type": "markdown",
   "id": "2e48a21b",
   "metadata": {},
   "source": [
    "##### Ques.1-  Create a vehicle class with an init method having instance variables as name_of_vehicle, max_speed and average_of_vehicle."
   ]
  },
  {
   "cell_type": "code",
   "execution_count": 1,
   "id": "fe09b231",
   "metadata": {},
   "outputs": [
    {
     "name": "stdout",
     "output_type": "stream",
     "text": [
      "Toyota\n",
      "200\n",
      "35\n"
     ]
    }
   ],
   "source": [
    "class vehicle:\n",
    "    def __init__(self,name_of_vehicle,max_speed,average_of_vehicle):\n",
    "        self.name_of_vehicle=name_of_vehicle\n",
    "        self.max_speed=max_speed\n",
    "        self.average_of_vehicle=average_of_vehicle\n",
    "obj1=vehicle(\"Toyota\",200,35)\n",
    "print(obj1.name_of_vehicle)\n",
    "print(obj1.max_speed)\n",
    "print(obj1.average_of_vehicle)"
   ]
  },
  {
   "cell_type": "code",
   "execution_count": null,
   "id": "706c2276",
   "metadata": {},
   "outputs": [],
   "source": []
  },
  {
   "cell_type": "markdown",
   "id": "aaf71fc5",
   "metadata": {},
   "source": [
    "##### Ques.2- Create a child class car from the vehicle class created in Que 1, which will inherit the vehicle class. Create a method named seating_capacity which takes capacity as an argument and returns the name of the vehicle and its seating capacity"
   ]
  },
  {
   "cell_type": "code",
   "execution_count": 2,
   "id": "85d437e0",
   "metadata": {},
   "outputs": [
    {
     "name": "stdout",
     "output_type": "stream",
     "text": [
      "{'Name': 'Ferrari', 'seating_capacity': (1, 2)}\n"
     ]
    }
   ],
   "source": [
    " class vehicle:\n",
    "    def __init__(self,name_of_vehicle,max_speed,average_of_vehicle):\n",
    "        self.name_of_vehicle=name_of_vehicle\n",
    "        self.max_speed=max_speed\n",
    "        self.average_of_vehicle=average_of_vehicle\n",
    "class car(vehicle):\n",
    "    def __init__(self,name_of_vehicle,max_speed,average_of_vehicle):\n",
    "        super().__init__(name_of_vehicle,max_speed,average_of_vehicle)\n",
    "        \n",
    "    def seating_capacity(self,capacity):\n",
    "        if capacity==2:\n",
    "            return{\"Name\":'Ferrari','seating_capacity':(1,2)}\n",
    "        elif capacity>2 and capacity<=4:\n",
    "            return{\"Name\":'Mercedes','seating_capacity':(1,2,3,4)}\n",
    "        if capacity>2 and capacity<=6:\n",
    "            return{\"Name\":'BMW','seating_capacity':(1,2,4,5,6)}\n",
    "        else:\n",
    "            return{\"Name\":'Scorpio','seating_capacity':(1,2,4,5,6,7)}\n",
    "mycar=car(\"Ferrai\",200,30)\n",
    "capacity=mycar.seating_capacity(2)\n",
    "print(capacity)"
   ]
  },
  {
   "cell_type": "code",
   "execution_count": null,
   "id": "da0b04e3",
   "metadata": {},
   "outputs": [],
   "source": []
  },
  {
   "cell_type": "markdown",
   "id": "672e7dad",
   "metadata": {},
   "source": [
    "##### Ques.3-  What is multiple inheritance? Write a python code to demonstrate multiple inheritance.\n",
    "##### Ans- When a class is derived from more than one base class it is called multiple Inheritance. The derived class inherits all the features of the base case.\n",
    " ###### Syntax:\n",
    "\n",
    "###### Class Base1:\n",
    "       Body of the class\n",
    "\n",
    "###### Class Base2:\n",
    "     Body of the class\n",
    "\n",
    "###### Class Derived(Base1, Base2):\n",
    "     Body of the class\n"
   ]
  },
  {
   "cell_type": "code",
   "execution_count": 3,
   "id": "3bdfa5c9",
   "metadata": {},
   "outputs": [
    {
     "name": "stdout",
     "output_type": "stream",
     "text": [
      "In Class2\n"
     ]
    }
   ],
   "source": [
    "\n",
    "class Class1:\n",
    "    def func(self):\n",
    "        print(\"In Class1\")\n",
    "class Class2(Class1):\n",
    "    def func(self):\n",
    "        print(\"In Class2\")\n",
    "class Class3(Class1):\n",
    "    def func(self):\n",
    "        print(\"In Class3\") \n",
    "        \n",
    "class Class4(Class2, Class3):\n",
    "    pass  \n",
    "     \n",
    "obj = Class4()\n",
    "obj.func()"
   ]
  },
  {
   "cell_type": "code",
   "execution_count": null,
   "id": "0acc1c6b",
   "metadata": {},
   "outputs": [],
   "source": []
  },
  {
   "cell_type": "markdown",
   "id": "16722f1b",
   "metadata": {},
   "source": [
    "##### Ques.4- What are getter and setter in python? Create a class and create a getter and a setter method in this class.\n",
    "##### Ans- The main purpose of using getters and setters in object-oriented programs is to ensure data encapsulation.  \n",
    "###### We use getters & setters to add validation logic around getting and setting a value."
   ]
  },
  {
   "cell_type": "code",
   "execution_count": 4,
   "id": "550b7114",
   "metadata": {},
   "outputs": [
    {
     "name": "stdout",
     "output_type": "stream",
     "text": [
      "20\n",
      "20\n"
     ]
    }
   ],
   "source": [
    "\n",
    "class PWSkill:\n",
    "    def __init__(self, age = 0):\n",
    "         self._age = age\n",
    "      \n",
    "    # getter method\n",
    "    def get_age(self):\n",
    "        return self._age\n",
    "      \n",
    "    # setter method\n",
    "    def set_age(self, x):\n",
    "        self._age = x\n",
    "Wasil = PWSkill()  \n",
    "# setting the age using setter\n",
    "Wasil.set_age(20) \n",
    "# retrieving age using getter\n",
    "print(Wasil.get_age())\n",
    "  \n",
    "print(Wasil._age)"
   ]
  },
  {
   "cell_type": "code",
   "execution_count": null,
   "id": "e6802c79",
   "metadata": {},
   "outputs": [],
   "source": []
  },
  {
   "cell_type": "markdown",
   "id": "b44cb9c4",
   "metadata": {},
   "source": [
    "##### Ques.5-  What is method overriding in python? Write a python code to demonstrate method overriding..\n",
    "##### Ans- Method overriding is a feature of object-oriented programming languages where the subclass or child class can provide the program with specific characteristics or a specific implementation process of data provided that are already defined in the parent class or superclass."
   ]
  },
  {
   "cell_type": "code",
   "execution_count": 5,
   "id": "f5a694e8",
   "metadata": {},
   "outputs": [
    {
     "name": "stdout",
     "output_type": "stream",
     "text": [
      "Inside Parent\n",
      "Inside Child\n"
     ]
    }
   ],
   "source": [
    "\n",
    "class Parent():\n",
    "\n",
    "    def __init__(self):\n",
    "        self.value = \"Inside Parent\"\n",
    "\n",
    "    def show(self):\n",
    "        print(self.value)\n",
    "\n",
    "class Child(Parent):\n",
    "    def __init__(self):\n",
    "        self.value = \"Inside Child\"\n",
    "\n",
    "    def show(self):\n",
    "        print(self.value)\n",
    "\n",
    "obj1 = Parent()\n",
    "obj2 = Child()\n",
    "  \n",
    "obj1.show()\n",
    "obj2.show()"
   ]
  },
  {
   "cell_type": "code",
   "execution_count": null,
   "id": "fb99a2bc",
   "metadata": {},
   "outputs": [],
   "source": []
  }
 ],
 "metadata": {
  "kernelspec": {
   "display_name": "Python 3 (ipykernel)",
   "language": "python",
   "name": "python3"
  },
  "language_info": {
   "codemirror_mode": {
    "name": "ipython",
    "version": 3
   },
   "file_extension": ".py",
   "mimetype": "text/x-python",
   "name": "python",
   "nbconvert_exporter": "python",
   "pygments_lexer": "ipython3",
   "version": "3.9.13"
  }
 },
 "nbformat": 4,
 "nbformat_minor": 5
}
